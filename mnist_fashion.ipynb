{
  "nbformat": 4,
  "nbformat_minor": 5,
  "metadata": {
    "kernelspec": {
      "display_name": "Python 3",
      "language": "python",
      "name": "python3"
    },
    "language_info": {
      "codemirror_mode": {
        "name": "ipython",
        "version": 3
      },
      "file_extension": ".py",
      "mimetype": "text/x-python",
      "name": "python",
      "nbconvert_exporter": "python",
      "pygments_lexer": "ipython3",
      "version": "3.8.3"
    },
    "varInspector": {
      "cols": {
        "lenName": 16,
        "lenType": 16,
        "lenVar": 40
      },
      "kernels_config": {
        "python": {
          "delete_cmd_postfix": "",
          "delete_cmd_prefix": "del ",
          "library": "var_list.py",
          "varRefreshCmd": "print(var_dic_list())"
        },
        "r": {
          "delete_cmd_postfix": ") ",
          "delete_cmd_prefix": "rm(",
          "library": "var_list.r",
          "varRefreshCmd": "cat(var_dic_list()) "
        }
      },
      "types_to_exclude": [
        "module",
        "function",
        "builtin_function_or_method",
        "instance",
        "_Feature"
      ],
      "window_display": false
    },
    "colab": {
      "name": "mnist fashion.ipynb",
      "provenance": [],
      "collapsed_sections": []
    },
    "accelerator": "GPU"
  },
  "cells": [
    {
      "cell_type": "code",
      "metadata": {
        "id": "laughing-bolivia"
      },
      "source": [
        "import tensorflow as tf\n",
        "import numpy as np\n",
        "from tensorflow.keras.layers import Input, Conv2D, Dense, Dropout, Flatten\n",
        "from tensorflow.keras.models import Model\n",
        "from sklearn.metrics import confusion_matrix\n",
        "from matplotlib import pyplot as plt"
      ],
      "id": "laughing-bolivia",
      "execution_count": 15,
      "outputs": []
    },
    {
      "cell_type": "code",
      "metadata": {
        "colab": {
          "base_uri": "https://localhost:8080/",
          "height": 35
        },
        "id": "WVZ-LHPW6Q0p",
        "outputId": "80197bc1-9846-45f6-850c-0ae2e923fb80"
      },
      "source": [
        "tf.test.gpu_device_name()"
      ],
      "id": "WVZ-LHPW6Q0p",
      "execution_count": 4,
      "outputs": [
        {
          "output_type": "execute_result",
          "data": {
            "application/vnd.google.colaboratory.intrinsic+json": {
              "type": "string"
            },
            "text/plain": [
              "'/device:GPU:0'"
            ]
          },
          "metadata": {
            "tags": []
          },
          "execution_count": 4
        }
      ]
    },
    {
      "cell_type": "markdown",
      "metadata": {
        "id": "pressing-stocks"
      },
      "source": [
        "### Importing the dataset"
      ],
      "id": "pressing-stocks"
    },
    {
      "cell_type": "code",
      "metadata": {
        "id": "fossil-hypothetical"
      },
      "source": [
        "fashion = tf.keras.datasets.fashion_mnist"
      ],
      "id": "fossil-hypothetical",
      "execution_count": 5,
      "outputs": []
    },
    {
      "cell_type": "markdown",
      "metadata": {
        "id": "unlike-massachusetts"
      },
      "source": [
        "### Splitting the dataset"
      ],
      "id": "unlike-massachusetts"
    },
    {
      "cell_type": "code",
      "metadata": {
        "colab": {
          "base_uri": "https://localhost:8080/"
        },
        "id": "demographic-routine",
        "outputId": "86808394-da47-43fb-91c5-c6753609e8e1"
      },
      "source": [
        "(X_train, y_train), (X_test, y_test) = fashion.load_data()\n",
        "X_train = X_train/255.0\n",
        "X_test = X_test/255.0"
      ],
      "id": "demographic-routine",
      "execution_count": 6,
      "outputs": [
        {
          "output_type": "stream",
          "text": [
            "Downloading data from https://storage.googleapis.com/tensorflow/tf-keras-datasets/train-labels-idx1-ubyte.gz\n",
            "32768/29515 [=================================] - 0s 0us/step\n",
            "Downloading data from https://storage.googleapis.com/tensorflow/tf-keras-datasets/train-images-idx3-ubyte.gz\n",
            "26427392/26421880 [==============================] - 0s 0us/step\n",
            "Downloading data from https://storage.googleapis.com/tensorflow/tf-keras-datasets/t10k-labels-idx1-ubyte.gz\n",
            "8192/5148 [===============================================] - 0s 0us/step\n",
            "Downloading data from https://storage.googleapis.com/tensorflow/tf-keras-datasets/t10k-images-idx3-ubyte.gz\n",
            "4423680/4422102 [==============================] - 0s 0us/step\n"
          ],
          "name": "stdout"
        }
      ]
    },
    {
      "cell_type": "code",
      "metadata": {
        "colab": {
          "base_uri": "https://localhost:8080/"
        },
        "id": "agreed-sunglasses",
        "outputId": "5f22dd52-7c08-483d-f2c1-dcd25464bc7c"
      },
      "source": [
        "X_train.shape"
      ],
      "id": "agreed-sunglasses",
      "execution_count": 7,
      "outputs": [
        {
          "output_type": "execute_result",
          "data": {
            "text/plain": [
              "(60000, 28, 28)"
            ]
          },
          "metadata": {
            "tags": []
          },
          "execution_count": 7
        }
      ]
    },
    {
      "cell_type": "markdown",
      "metadata": {
        "id": "checked-lancaster"
      },
      "source": [
        "### Expending the array\n",
        "#### we're doing this because cnn expects 3 dims -> height, width, color"
      ],
      "id": "checked-lancaster"
    },
    {
      "cell_type": "code",
      "metadata": {
        "colab": {
          "base_uri": "https://localhost:8080/"
        },
        "id": "willing-burden",
        "outputId": "0c7feddd-598d-4e55-9bc2-76f8c37f0905"
      },
      "source": [
        "X_train = np.expand_dims(X_train, -1)\n",
        "X_test = np.expand_dims(X_test, -1)\n",
        "X_train.shape"
      ],
      "id": "willing-burden",
      "execution_count": 8,
      "outputs": [
        {
          "output_type": "execute_result",
          "data": {
            "text/plain": [
              "(60000, 28, 28, 1)"
            ]
          },
          "metadata": {
            "tags": []
          },
          "execution_count": 8
        }
      ]
    },
    {
      "cell_type": "markdown",
      "metadata": {
        "id": "moral-celebrity"
      },
      "source": [
        "### Number of classes"
      ],
      "id": "moral-celebrity"
    },
    {
      "cell_type": "code",
      "metadata": {
        "colab": {
          "base_uri": "https://localhost:8080/"
        },
        "id": "analyzed-bishop",
        "outputId": "703f4129-364a-417b-c1b1-aee687a37631"
      },
      "source": [
        "classes = len(set(y_train))\n",
        "classes"
      ],
      "id": "analyzed-bishop",
      "execution_count": 9,
      "outputs": [
        {
          "output_type": "execute_result",
          "data": {
            "text/plain": [
              "10"
            ]
          },
          "metadata": {
            "tags": []
          },
          "execution_count": 9
        }
      ]
    },
    {
      "cell_type": "markdown",
      "metadata": {
        "id": "corresponding-madness"
      },
      "source": [
        "### Building the model"
      ],
      "id": "corresponding-madness"
    },
    {
      "cell_type": "code",
      "metadata": {
        "id": "alone-boxing"
      },
      "source": [
        "i = Input(shape=X_train[0].shape)\n",
        "x = Conv2D(32, (3, 3), strides=2, activation='relu')(i)\n",
        "x = Conv2D(64, (3, 3), strides=2, activation='relu')(x)\n",
        "x = Conv2D(128, (3, 3), strides=2, activation='relu')(x)\n",
        "x = Flatten()(x)\n",
        "x = Dropout(0.2)(x)\n",
        "x = Dense(512, activation='relu')(x)\n",
        "x = Dropout(0.2)(x)\n",
        "x = Dense(classes, activation='softmax')(x)\n",
        "\n",
        "model = Model(i, x)"
      ],
      "id": "alone-boxing",
      "execution_count": 10,
      "outputs": []
    },
    {
      "cell_type": "markdown",
      "metadata": {
        "id": "38Jr6b7k7Iqq"
      },
      "source": [
        "### Complie and Fit"
      ],
      "id": "38Jr6b7k7Iqq"
    },
    {
      "cell_type": "code",
      "metadata": {
        "colab": {
          "base_uri": "https://localhost:8080/"
        },
        "cellView": "code",
        "id": "nonprofit-director",
        "outputId": "c1e684bf-bbe6-4e2d-88ff-05ab72a7ad98"
      },
      "source": [
        "model.compile(optimizer='adam', \n",
        "              loss='sparse_categorical_crossentropy', metrics=['accuracy'])\n",
        "\n",
        "trained = model.fit(X_train, y_train, validation_data=(X_test, y_test), epochs=15)"
      ],
      "id": "nonprofit-director",
      "execution_count": 11,
      "outputs": [
        {
          "output_type": "stream",
          "text": [
            "Epoch 1/15\n",
            "1875/1875 [==============================] - 40s 4ms/step - loss: 0.7085 - accuracy: 0.7385 - val_loss: 0.4183 - val_accuracy: 0.8383\n",
            "Epoch 2/15\n",
            "1875/1875 [==============================] - 7s 4ms/step - loss: 0.3780 - accuracy: 0.8560 - val_loss: 0.3585 - val_accuracy: 0.8696\n",
            "Epoch 3/15\n",
            "1875/1875 [==============================] - 7s 4ms/step - loss: 0.3238 - accuracy: 0.8784 - val_loss: 0.3159 - val_accuracy: 0.8824\n",
            "Epoch 4/15\n",
            "1875/1875 [==============================] - 7s 4ms/step - loss: 0.2807 - accuracy: 0.8952 - val_loss: 0.3063 - val_accuracy: 0.8843\n",
            "Epoch 5/15\n",
            "1875/1875 [==============================] - 7s 4ms/step - loss: 0.2544 - accuracy: 0.9040 - val_loss: 0.3012 - val_accuracy: 0.8911\n",
            "Epoch 6/15\n",
            "1875/1875 [==============================] - 7s 4ms/step - loss: 0.2318 - accuracy: 0.9105 - val_loss: 0.2844 - val_accuracy: 0.8999\n",
            "Epoch 7/15\n",
            "1875/1875 [==============================] - 7s 4ms/step - loss: 0.2151 - accuracy: 0.9179 - val_loss: 0.3045 - val_accuracy: 0.8999\n",
            "Epoch 8/15\n",
            "1875/1875 [==============================] - 7s 4ms/step - loss: 0.1989 - accuracy: 0.9242 - val_loss: 0.2922 - val_accuracy: 0.8974\n",
            "Epoch 9/15\n",
            "1875/1875 [==============================] - 7s 4ms/step - loss: 0.1819 - accuracy: 0.9308 - val_loss: 0.2999 - val_accuracy: 0.9013\n",
            "Epoch 10/15\n",
            "1875/1875 [==============================] - 7s 4ms/step - loss: 0.1723 - accuracy: 0.9342 - val_loss: 0.3077 - val_accuracy: 0.8982\n",
            "Epoch 11/15\n",
            "1875/1875 [==============================] - 7s 4ms/step - loss: 0.1609 - accuracy: 0.9392 - val_loss: 0.3093 - val_accuracy: 0.9036\n",
            "Epoch 12/15\n",
            "1875/1875 [==============================] - 7s 4ms/step - loss: 0.1484 - accuracy: 0.9435 - val_loss: 0.3216 - val_accuracy: 0.9013\n",
            "Epoch 13/15\n",
            "1875/1875 [==============================] - 7s 4ms/step - loss: 0.1384 - accuracy: 0.9455 - val_loss: 0.3330 - val_accuracy: 0.8998\n",
            "Epoch 14/15\n",
            "1875/1875 [==============================] - 7s 4ms/step - loss: 0.1284 - accuracy: 0.9503 - val_loss: 0.3429 - val_accuracy: 0.8939\n",
            "Epoch 15/15\n",
            "1875/1875 [==============================] - 7s 4ms/step - loss: 0.1229 - accuracy: 0.9525 - val_loss: 0.3521 - val_accuracy: 0.8994\n"
          ],
          "name": "stdout"
        }
      ]
    },
    {
      "cell_type": "markdown",
      "metadata": {
        "id": "Jbr0gYXr9rve"
      },
      "source": [
        "### Predicting"
      ],
      "id": "Jbr0gYXr9rve"
    },
    {
      "cell_type": "code",
      "metadata": {
        "id": "g_-97GDsACs2"
      },
      "source": [
        "labels = '''\n",
        "T-shirt/top\n",
        "Trouser\n",
        "Pullover\n",
        "Dress\n",
        "Coat\n",
        "Sandal\n",
        "Shirt\n",
        "Sneaker\n",
        "Bag\n",
        "Ankle boot\n",
        "'''.split()"
      ],
      "id": "g_-97GDsACs2",
      "execution_count": 21,
      "outputs": []
    },
    {
      "cell_type": "code",
      "metadata": {
        "id": "d3IVT6lI9B8y"
      },
      "source": [
        "prediction = model.predict(X_test).argmax(axis=1)\n",
        "confusion_mat = confusion_matrix(y_test, prediction)"
      ],
      "id": "d3IVT6lI9B8y",
      "execution_count": 14,
      "outputs": []
    },
    {
      "cell_type": "code",
      "metadata": {
        "colab": {
          "base_uri": "https://localhost:8080/",
          "height": 281
        },
        "id": "SpfHYJy4-kIj",
        "outputId": "7032b7c6-3ae2-4b54-f297-66fdf724c72e"
      },
      "source": [
        "classified = np.where(prediction == y_test)[0]\n",
        "idx = np.random.choice(classified)\n",
        "plt.imshow(X_test[idx].reshape(28,28), cmap='gray')\n",
        "plt.title(f\"Classified label: {labels[y_test[idx]]}\")\n",
        "plt.show()"
      ],
      "id": "SpfHYJy4-kIj",
      "execution_count": 24,
      "outputs": [
        {
          "output_type": "display_data",
          "data": {
            "image/png": "[encoded data removed]",
            "text/plain": [
              "<Figure size 432x288 with 1 Axes>"
            ]
          },
          "metadata": {
            "tags": [],
            "needs_background": "light"
          }
        }
      ]
    },
    {
      "cell_type": "code",
      "metadata": {
        "colab": {
          "base_uri": "https://localhost:8080/",
          "height": 281
        },
        "id": "d7U_28ITA1s0",
        "outputId": "d1e8cc14-9bc1-46ce-aedc-ed3ce299aeb8"
      },
      "source": [
        "miss_classified = np.where(prediction != y_test)[0]\n",
        "idx = np.random.choice(miss_classified)\n",
        "plt.imshow(X_test[idx].reshape(28,28), cmap='gray')\n",
        "plt.title(f\"True label: {labels[y_test[idx]]} Prediction label: {labels[prediction[idx]]}\")\n",
        "plt.show()"
      ],
      "id": "d7U_28ITA1s0",
      "execution_count": 26,
      "outputs": [
        {
          "output_type": "display_data",
          "data": {
            "image/png": "[encoded data removed]",
            "text/plain": [
              "<Figure size 432x288 with 1 Axes>"
            ]
          },
          "metadata": {
            "tags": [],
            "needs_background": "light"
          }
        }
      ]
    },
    {
      "cell_type": "markdown",
      "metadata": {
        "id": "L_OBX8nv7G-f"
      },
      "source": [
        ""
      ],
      "id": "L_OBX8nv7G-f"
    }
  ]
}